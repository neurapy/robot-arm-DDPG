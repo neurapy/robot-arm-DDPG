{
 "cells": [
  {
   "cell_type": "markdown",
   "metadata": {},
   "source": [
    "## IMPORTS"
   ]
  },
  {
   "cell_type": "code",
   "execution_count": 1,
   "metadata": {},
   "outputs": [],
   "source": [
    "from unityagents import UnityEnvironment\n",
    "import numpy as np\n",
    "import random\n",
    "import torch\n",
    "from collections import deque\n",
    "import matplotlib.pyplot as plt\n",
    "%matplotlib inline\n",
    "import random\n",
    "import torch\n",
    "import numpy as np\n",
    "from collections import deque\n",
    "import time\n",
    "import matplotlib.pyplot as plt\n",
    "import copy\n",
    "\n",
    "from ddpg_agent import Agent"
   ]
  },
  {
   "cell_type": "markdown",
   "metadata": {},
   "source": [
    "## ENVIROMENT"
   ]
  },
  {
   "cell_type": "code",
   "execution_count": 2,
   "metadata": {},
   "outputs": [
    {
     "name": "stdout",
     "output_type": "stream",
     "text": [
      "Mono path[0] = '/Users/gerritdolderer/AI/learn/DRL/deep-reinforcement-learning-master/p2_continuous-control/Reacher.app/Contents/Resources/Data/Managed'\n",
      "Mono config path = '/Users/gerritdolderer/AI/learn/DRL/deep-reinforcement-learning-master/p2_continuous-control/Reacher.app/Contents/MonoBleedingEdge/etc'\n"
     ]
    },
    {
     "name": "stderr",
     "output_type": "stream",
     "text": [
      "INFO:unityagents:\n",
      "'Academy' started successfully!\n",
      "Unity Academy name: Academy\n",
      "        Number of Brains: 1\n",
      "        Number of External Brains : 1\n",
      "        Lesson number : 0\n",
      "        Reset Parameters :\n",
      "\t\tgoal_size -> 5.0\n",
      "\t\tgoal_speed -> 1.0\n",
      "Unity brain name: ReacherBrain\n",
      "        Number of Visual Observations (per agent): 0\n",
      "        Vector Observation space type: continuous\n",
      "        Vector Observation space size (per agent): 33\n",
      "        Number of stacked Vector Observation: 1\n",
      "        Vector Action space type: continuous\n",
      "        Vector Action space size (per agent): 4\n",
      "        Vector Action descriptions: , , , \n"
     ]
    },
    {
     "name": "stdout",
     "output_type": "stream",
     "text": [
      "number of agents:  20\n",
      "action size:  4\n",
      "state size:  33\n"
     ]
    }
   ],
   "source": [
    "env = UnityEnvironment(file_name='Reacher')\n",
    "# get the default brain\n",
    "brain_name = env.brain_names[0]\n",
    "brain = env.brains[brain_name]\n",
    "# Reset the environment    \n",
    "env_info = env.reset(train_mode=True)[brain_name]     \n",
    "# number of agents\n",
    "num_agents = len(env_info.agents)\n",
    "# size of each action\n",
    "action_size = brain.vector_action_space_size\n",
    "# size of the state space \n",
    "states = env_info.vector_observations\n",
    "state_size = states.shape[1]\n",
    "print('number of agents: ', num_agents)\n",
    "print('action size: ', action_size)\n",
    "print('state size: ', state_size)"
   ]
  },
  {
   "cell_type": "code",
   "execution_count": 3,
   "metadata": {},
   "outputs": [],
   "source": [
    "def take_random_action():\n",
    "    env_info = env.reset(train_mode=False)[brain_name]     # reset the environment    \n",
    "    states = env_info.vector_observations                  # get the current state (for each agent)\n",
    "    scores = np.zeros(num_agents)                          # initialize the score (for each agent)\n",
    "    while True:\n",
    "        actions = np.random.randn(num_agents, action_size) # select an action (for each agent)\n",
    "        actions = np.clip(actions, -1, 1)                  # all actions between -1 and 1\n",
    "        env_info = env.step(actions)[brain_name]           # send all actions to tne environment\n",
    "        next_states = env_info.vector_observations         # get next state (for each agent)\n",
    "        rewards = env_info.rewards                         # get reward (for each agent)\n",
    "        dones = env_info.local_done                        # see if episode finished\n",
    "        scores += env_info.rewards                         # update the score (for each agent)\n",
    "        states = next_states                               # roll over states to next time step\n",
    "        if np.any(dones):                                  # exit loop if episode finished\n",
    "            break\n",
    "    print('Total score (averaged over agents) this episode: {}'.format(np.mean(scores)))"
   ]
  },
  {
   "cell_type": "markdown",
   "metadata": {},
   "source": [
    "### TRAINING RUN"
   ]
  },
  {
   "cell_type": "code",
   "execution_count": 4,
   "metadata": {},
   "outputs": [],
   "source": [
    "def ddpg(n_episodes=1500, max_t=1000, \n",
    "         actor_fc1_units=128, actor_fc2_units=128,\n",
    "         critic_fcs1_units=128, critic_fc2_units=128,\n",
    "         gamma=0.99, tau=1e-3, lr_actor=2e-4, lr_critic=2e-4, mu=0., theta=0.15, sigma=0.1):\n",
    "\n",
    "    agent = Agent(state_size=state_size, action_size=action_size, random_seed=10,\n",
    "                  actor_fc1_units=actor_fc1_units, actor_fc2_units=actor_fc2_units,\n",
    "                  critic_fcs1_units=critic_fcs1_units, critic_fc2_units=critic_fc2_units,\n",
    "                  gamma=gamma, tau=tau, lr_actor=lr_actor, lr_critic=lr_critic,\n",
    "                  mu=mu, theta=theta, sigma=sigma)\n",
    "\n",
    "    scores_deque = deque(maxlen=100)\n",
    "    scores = []\n",
    "\n",
    "    print(\"\\nTraining:\")\n",
    "    for i_episode in range(1, n_episodes+1):\n",
    "        env_info = env.reset(train_mode=True)[brain_name]\n",
    "        states = env_info.vector_observations\n",
    "        agent.reset()\n",
    "        score = np.zeros(num_agents)\n",
    "        timestep = 0\n",
    "\n",
    "        for t in range(max_t):\n",
    "            actions = agent.act(states)\n",
    "            env_info = env.step(actions)[brain_name]\n",
    "            next_states = env_info.vector_observations\n",
    "            rewards = env_info.rewards\n",
    "            dones = env_info.local_done\n",
    "\n",
    "            for state, action, reward, next_state, done in zip(states, actions, rewards, next_states, dones):\n",
    "                agent.step(state, action, reward, next_state, done, timestep)\n",
    "            \n",
    "            score += rewards\n",
    "            timestep += 1\n",
    "            states = next_states\n",
    "            if np.any(dones):\n",
    "                break\n",
    "\n",
    "        scores_deque.append(np.mean(score))\n",
    "        scores.append(np.mean(score))\n",
    "        avg_score = np.mean(scores_deque)\n",
    "\n",
    "        print(f'Episode {i_episode}\\tScore: {np.mean(score):.2f}\\tMoving Average (100): {avg_score:.2f}')\n",
    "        if i_episode % 100 == 0:\n",
    "            torch.save(agent.actor_local.state_dict(), 'checkpoint_actor.pth')\n",
    "            torch.save(agent.critic_local.state_dict(), 'checkpoint_critic.pth')\n",
    "            print(f'\\nEpisode {i_episode}\\tAverage Score: {avg_score:.2f}')\n",
    "            if avg_score > 30:\n",
    "                print(f'\\nEnvironment solved in {i_episode} episodes with an Average Score of {avg_score:.2f}')\n",
    "                return scores\n",
    "    return scores\n"
   ]
  },
  {
   "cell_type": "code",
   "execution_count": 5,
   "metadata": {},
   "outputs": [],
   "source": [
    "\n",
    "def plot_training(scores):\n",
    "    fig = plt.figure()\n",
    "    ax = fig.add_subplot(111)\n",
    "    ax.tick_params(axis='x')\n",
    "    ax.tick_params(axis='y')\n",
    "    plt.plot(np.arange(1, len(scores)+1), scores)\n",
    "    plt.ylabel('Score')\n",
    "    plt.xlabel('Episode')\n",
    "    plt.show()"
   ]
  },
  {
   "cell_type": "code",
   "execution_count": 6,
   "metadata": {},
   "outputs": [
    {
     "name": "stdout",
     "output_type": "stream",
     "text": [
      "\n",
      "Training:\n",
      "Episode 1\tScore: 0.11\tMoving Average (100): 0.11\n",
      "Episode 2\tScore: 0.03\tMoving Average (100): 0.07\n",
      "Episode 3\tScore: 0.05\tMoving Average (100): 0.06\n",
      "Episode 4\tScore: 0.04\tMoving Average (100): 0.06\n",
      "Episode 5\tScore: 0.10\tMoving Average (100): 0.07\n",
      "Episode 6\tScore: 0.06\tMoving Average (100): 0.06\n",
      "Episode 7\tScore: 0.02\tMoving Average (100): 0.06\n"
     ]
    }
   ],
   "source": [
    "scores = ddpg(n_episodes=3000, max_t=1000, \n",
    "              actor_fc1_units=128, actor_fc2_units=128,\n",
    "              critic_fcs1_units=128, critic_fc2_units=128, \n",
    "              gamma=0.97, tau=1e-3, lr_actor=2e-4, lr_critic=2e-4\n",
    "              ,mu=0., theta=0.15, sigma=0.1 )\n",
    "\n",
    "plot_training(scores)"
   ]
  },
  {
   "cell_type": "markdown",
   "metadata": {},
   "source": [
    "### Watch a smart Agent"
   ]
  },
  {
   "cell_type": "code",
   "execution_count": null,
   "metadata": {},
   "outputs": [],
   "source": [
    "def play(n_episodes=100, max_t=30, \n",
    "         actor_checkpoint='checkpoint_actor.pth', \n",
    "         critic_checkpoint='checkpoint_critic.pth'):\n",
    "    agent = Agent(state_size=state_size, action_size=action_size, random_seed=100)\n",
    "\n",
    "    # Load the trained model weights\n",
    "    agent.actor_local.load_state_dict(torch.load(actor_checkpoint))\n",
    "    agent.critic_local.load_state_dict(torch.load(critic_checkpoint))\n",
    "\n",
    "    scores = []\n",
    "\n",
    "    print(\"\\nPlaying:\")\n",
    "    for i_episode in range(1, n_episodes+1):\n",
    "        env_info = env.reset(train_mode=False)[brain_name]\n",
    "        states = env_info.vector_observations\n",
    "        agent.reset()\n",
    "        score = np.zeros(num_agents)\n",
    "\n",
    "        for t in range(max_t):\n",
    "            actions = agent.act(states, add_noise = False)  # Disable noise during evaluation\n",
    "            env_info = env.step(actions)[brain_name]\n",
    "            next_states = env_info.vector_observations\n",
    "            rewards = env_info.rewards\n",
    "            dones = env_info.local_done\n",
    "\n",
    "            score += rewards\n",
    "            states = next_states\n",
    "            if np.any(dones):\n",
    "                break\n",
    "\n",
    "        scores.append(np.mean(score))\n",
    "        print(f'Episode {i_episode}\\tScore: {np.mean(score):.2f}')\n",
    "\n",
    "    avg_score = np.mean(scores)\n",
    "    print(f'\\nAverage Score over {n_episodes} episodes: {avg_score:.2f}')\n",
    "    return scores\n",
    "\n",
    "\n",
    "scores = play()"
   ]
  },
  {
   "cell_type": "code",
   "execution_count": null,
   "metadata": {},
   "outputs": [],
   "source": [
    "env.close()"
   ]
  }
 ],
 "metadata": {
  "kernelspec": {
   "display_name": "Python 3",
   "language": "python",
   "name": "python3"
  },
  "language_info": {
   "codemirror_mode": {
    "name": "ipython",
    "version": 3
   },
   "file_extension": ".py",
   "mimetype": "text/x-python",
   "name": "python",
   "nbconvert_exporter": "python",
   "pygments_lexer": "ipython3",
   "version": "3.9.19"
  }
 },
 "nbformat": 4,
 "nbformat_minor": 2
}
